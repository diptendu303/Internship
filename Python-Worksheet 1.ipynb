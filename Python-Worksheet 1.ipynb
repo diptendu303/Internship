{
 "cells": [
  {
   "cell_type": "markdown",
   "metadata": {},
   "source": [
    "       \n",
    "   # PYTHON-WORKSHEET 1"
   ]
  },
  {
   "cell_type": "markdown",
   "metadata": {},
   "source": [
    "Programming Questions and Answers"
   ]
  },
  {
   "cell_type": "code",
   "execution_count": null,
   "metadata": {},
   "outputs": [],
   "source": [
    "#11. Write a python program to find the factoral of a number.\n",
    "\n",
    "a= int(input(\"Enter a number: \"))\n",
    "f=1\n",
    "for i in range(1,a+1):\n",
    "    f= f*i\n",
    "print(f'The factoral of the number is {f}')"
   ]
  },
  {
   "cell_type": "code",
   "execution_count": null,
   "metadata": {},
   "outputs": [],
   "source": []
  },
  {
   "cell_type": "code",
   "execution_count": null,
   "metadata": {},
   "outputs": [],
   "source": [
    "#12. Write a python program to find whether a number is prime or composite.\n",
    "\n",
    "number= int(input(\"Enter any number :\"))\n",
    "if number > 1:\n",
    "    for i in range (2, int(number/2)+1):\n",
    "        if(number % i ==0):\n",
    "            print(number, \"is a Composite Number\")\n",
    "            break\n",
    "    else:\n",
    "        print(number, \"is a Prime Number\")\n",
    "else:\n",
    "    print(number, \"is neither Prime nor Composite Number\")"
   ]
  },
  {
   "cell_type": "code",
   "execution_count": null,
   "metadata": {},
   "outputs": [],
   "source": []
  },
  {
   "cell_type": "code",
   "execution_count": null,
   "metadata": {},
   "outputs": [],
   "source": [
    "#13 Write a pythone program to check whether a given string is palindrome or not.\n",
    "\n",
    "s=input(\"Enter a string: \")\n",
    "\n",
    "reverstr=(s[::-1])\n",
    "\n",
    "if reverstr==s:\n",
    "    print(\"Palindrome\")\n",
    "else:\n",
    "    print(\"Not Palimdrome\")\n",
    "    "
   ]
  },
  {
   "cell_type": "code",
   "execution_count": null,
   "metadata": {},
   "outputs": [],
   "source": []
  },
  {
   "cell_type": "code",
   "execution_count": null,
   "metadata": {},
   "outputs": [],
   "source": [
    "#14. Write a Python program to get the third side of right-angled triangle from two given sides.\n",
    "\n",
    "import math\n",
    "\n",
    "a= float(input(\"Enter base: \"))\n",
    "b= float(input(\"Enter height: \"))\n",
    "\n",
    "c= math.sqrt(a**2 + b**2)\n",
    "\n",
    "print(\"Hypotenuse = \", c)"
   ]
  },
  {
   "cell_type": "code",
   "execution_count": null,
   "metadata": {},
   "outputs": [],
   "source": [
    "#15 Write a python program to print the frequency of each of the characters present in a given string.\n",
    "\n",
    "string=input(\"Enter the String: \")\n",
    "print(\"Given String is: \", string)\n",
    "count={}\n",
    "\n",
    "for x in string:\n",
    "    if x in count.keys():\n",
    "        count[x]+=1\n",
    "    else:\n",
    "        count[x]=1\n",
    "print(\"count is : \",count)"
   ]
  },
  {
   "cell_type": "code",
   "execution_count": null,
   "metadata": {},
   "outputs": [],
   "source": []
  }
 ],
 "metadata": {
  "kernelspec": {
   "display_name": "Python 3",
   "language": "python",
   "name": "python3"
  },
  "language_info": {
   "codemirror_mode": {
    "name": "ipython",
    "version": 3
   },
   "file_extension": ".py",
   "mimetype": "text/x-python",
   "name": "python",
   "nbconvert_exporter": "python",
   "pygments_lexer": "ipython3",
   "version": "3.8.5"
  }
 },
 "nbformat": 4,
 "nbformat_minor": 4
}
